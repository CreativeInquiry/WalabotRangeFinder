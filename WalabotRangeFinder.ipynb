{
 "cells": [
  {
   "cell_type": "markdown",
   "metadata": {},
   "source": [
    "Load the WalabotSDK from source."
   ]
  },
  {
   "cell_type": "code",
   "execution_count": 1,
   "metadata": {},
   "outputs": [],
   "source": [
    "from imp import load_source\n",
    "WalabotAPI = load_source('WalabotAPI', 'C:/Program Files/Walabot/WalabotSDK/python/WalabotAPI.py')\n",
    "import WalabotAPI as wb"
   ]
  },
  {
   "cell_type": "markdown",
   "metadata": {},
   "source": [
    "Initialize the Walabot SDK and set the arena."
   ]
  },
  {
   "cell_type": "code",
   "execution_count": 2,
   "metadata": {},
   "outputs": [
    {
     "name": "stdout",
     "output_type": "stream",
     "text": [
      "Initialize API\n",
      "Walabot API version: 1.2.2_1a20f5edc5cf4fada3b3002990052a300279b7f8\n",
      "Connected to Walabot\n",
      "Arena set\n"
     ]
    }
   ],
   "source": [
    "# Select scan arena\n",
    "# Each value is (min, max, cm resolution)\n",
    "#             R             Phi          Theta\n",
    "ARENA = [(10, 100, 4), (-30, 30, 4), (-30, 30, 4)]\n",
    "\n",
    "from time import sleep\n",
    "import sys\n",
    "import os\n",
    "from collections import defaultdict\n",
    "from itertools import product\n",
    "\n",
    "import matplotlib.pyplot as plt\n",
    "import numpy as np\n",
    "import k3d\n",
    "from IPython.display import clear_output\n",
    "from sklearn.model_selection import train_test_split\n",
    "from sklearn.neural_network import MLPClassifier\n",
    "\n",
    "print(\"Initialize API\")\n",
    "wb.Init()\n",
    "wb.Initialize()\n",
    "\n",
    "# Check if a Walabot is connected\n",
    "try:\n",
    "    wb.ConnectAny()\n",
    "\n",
    "except wb.WalabotError as err:\n",
    "    print(\"Failed to connect to Walabot.\\nerror code: \" + str(err.code))\n",
    "\n",
    "ver = wb.GetVersion()\n",
    "print(\"Walabot API version: {}\".format(ver))\n",
    "\n",
    "print(\"Connected to Walabot\")\n",
    "wb.SetProfile(wb.PROF_SENSOR)\n",
    "\n",
    "# Set scan arena\n",
    "wb.SetArenaR(*ARENA[0])\n",
    "wb.SetArenaPhi(*ARENA[1])\n",
    "wb.SetArenaTheta(*ARENA[2])\n",
    "print(\"Arena set\")\n",
    "\n",
    "# Set image filter\n",
    "wb.SetDynamicImageFilter(wb.FILTER_TYPE_NONE)\n",
    "\n",
    "# Start scan\n",
    "wb.Start()"
   ]
  },
  {
   "cell_type": "code",
   "execution_count": 3,
   "metadata": {},
   "outputs": [],
   "source": [
    "def pos_map_3d(arena, img):\n",
    "    \"\"\"\n",
    "    Given an arena and a raw image, return the 3D positions of all the points.\n",
    "    This function might be wrong.\n",
    "    \"\"\"\n",
    "    r_range, phi_range, theta_range = arena\n",
    "    ni, nj, nk = img.shape\n",
    "    positions = []\n",
    "    for theta,phi,r in product(np.linspace(*theta_range[:2], ni),\n",
    "                               np.linspace(*phi_range[:2], nj),\n",
    "                               np.linspace(*r_range[:2], nk)):\n",
    "        theta = np.deg2rad(theta)\n",
    "        phi = np.deg2rad(phi)\n",
    "        x = r * np.sin(theta) * np.cos(phi)\n",
    "        y = r * np.sin(theta) * np.sin(phi)\n",
    "        z = r * np.cos(theta)\n",
    "        positions.append((x, y, z))\n",
    "    return positions"
   ]
  },
  {
   "cell_type": "code",
   "execution_count": 4,
   "metadata": {},
   "outputs": [
    {
     "data": {
      "application/vnd.jupyter.widget-view+json": {
       "model_id": "b37fcaf91c93469f882f9967931ccd28",
       "version_major": 2,
       "version_minor": 0
      },
      "text/plain": [
       "Output()"
      ]
     },
     "metadata": {},
     "output_type": "display_data"
    }
   ],
   "source": [
    "def get_frame():\n",
    "    \"\"\"\n",
    "    Trigger the Walabot, return a raw image and colors.\n",
    "    \"\"\"\n",
    "    wb.Trigger()\n",
    "    raw, ni, nj, nk, max_power = wb.GetRawImage()\n",
    "    raw = np.asarray(raw)\n",
    "    img = raw.astype(np.float32) / 255\n",
    "    grayscale = np.asarray([(e<<16) + (e<<8) + e for e in range(256)], dtype=np.uint32)\n",
    "    colors = grayscale[255 - raw.reshape(-1).astype(np.uint8)]\n",
    "    return img, colors\n",
    "\n",
    "plot = k3d.plot()\n",
    "img, colors = get_frame()\n",
    "posmap = pos_map_3d(ARENA, img)\n",
    "points = k3d.points(positions=posmap, shader='flat', colors=colors, opacity=0.5)\n",
    "plot += points\n",
    "plot.display()\n",
    "\n",
    "while True:\n",
    "    try:\n",
    "        img, colors = get_frame()\n",
    "        points.colors = colors\n",
    "        sleep(0.05)\n",
    "    except KeyboardInterrupt:\n",
    "        break"
   ]
  },
  {
   "cell_type": "markdown",
   "metadata": {},
   "source": [
    "Set up our dictionary that will collect recorded samples. Run this cell again to clear the recorded samples."
   ]
  },
  {
   "cell_type": "code",
   "execution_count": 8,
   "metadata": {},
   "outputs": [],
   "source": [
    "samples = defaultdict(list)\n",
    "\n",
    "def record_samples(category, total=256):\n",
    "    for i in range(total):\n",
    "        try:\n",
    "            img, colors = get_frame()\n",
    "            samples[category].append(img)\n",
    "            n = len(samples[category])\n",
    "            pct = n / total\n",
    "            print(f'{category}: {n}/{total} {100*pct:.2f}%')\n",
    "            sleep(0.01)\n",
    "            clear_output(wait=True)\n",
    "        except KeyboardInterrupt:\n",
    "            break"
   ]
  },
  {
   "cell_type": "markdown",
   "metadata": {},
   "source": [
    "Record samples for the \"close\" category."
   ]
  },
  {
   "cell_type": "code",
   "execution_count": 9,
   "metadata": {
    "scrolled": false
   },
   "outputs": [
    {
     "name": "stdout",
     "output_type": "stream",
     "text": [
      "close: 256/256 100.00%\n"
     ]
    }
   ],
   "source": [
    "record_samples('close')"
   ]
  },
  {
   "cell_type": "markdown",
   "metadata": {},
   "source": [
    "Record samples for the \"far\" category."
   ]
  },
  {
   "cell_type": "code",
   "execution_count": 10,
   "metadata": {},
   "outputs": [
    {
     "name": "stdout",
     "output_type": "stream",
     "text": [
      "far: 256/256 100.00%\n"
     ]
    }
   ],
   "source": [
    "record_samples('far')"
   ]
  },
  {
   "cell_type": "markdown",
   "metadata": {},
   "source": [
    "Collect all the samples into one array and generate the ground truth labels. Then divide into a 10% test and 90% train split."
   ]
  },
  {
   "cell_type": "code",
   "execution_count": 11,
   "metadata": {},
   "outputs": [],
   "source": [
    "keys = list(samples.keys())\n",
    "x_a = np.stack(samples[keys[0]])\n",
    "x_b = np.stack(samples[keys[1]])\n",
    "x = np.vstack((x_a, x_b))\n",
    "x = x.reshape(len(x), -1)\n",
    "\n",
    "a_n = len(samples[keys[0]])\n",
    "b_n = len(samples[keys[1]])\n",
    "y = np.asarray([0] * a_n + [1] * b_n).astype(np.float32)\n",
    "\n",
    "x_train, x_test, y_train, y_test = train_test_split(x, y, test_size=0.10)"
   ]
  },
  {
   "cell_type": "markdown",
   "metadata": {},
   "source": [
    "Train a simple neural network to predict the distance category and test it on the test set. This should acheive aroudn 98%+ accuracy"
   ]
  },
  {
   "cell_type": "code",
   "execution_count": 12,
   "metadata": {},
   "outputs": [
    {
     "name": "stdout",
     "output_type": "stream",
     "text": [
      "100.00% accuracy\n"
     ]
    }
   ],
   "source": [
    "nn = MLPClassifier()\n",
    "nn.fit(x_train, y_train)\n",
    "y_pred = nn.predict_proba(x_test)\n",
    "accuracy = nn.score(x_test, y_test)\n",
    "print(f'{100*accuracy:.2f}% accuracy')"
   ]
  },
  {
   "cell_type": "code",
   "execution_count": 13,
   "metadata": {},
   "outputs": [
    {
     "data": {
      "image/png": "[encoded data removed]",
      "text/plain": [
       "<Figure size 432x288 with 1 Axes>"
      ]
     },
     "metadata": {
      "needs_background": "light"
     },
     "output_type": "display_data"
    }
   ],
   "source": [
    "plt.hist(y_pred[:,0][y_test==0], bins=8, range=(0,1), histtype='step')\n",
    "plt.hist(y_pred[:,0][y_test==1], bins=8, range=(0,1), histtype='step')\n",
    "plt.show()"
   ]
  },
  {
   "cell_type": "markdown",
   "metadata": {},
   "source": [
    "Run this cell to evaluate the model in realtime."
   ]
  },
  {
   "cell_type": "code",
   "execution_count": 14,
   "metadata": {},
   "outputs": [
    {
     "name": "stdout",
     "output_type": "stream",
     "text": [
      "close =================================================| far\n"
     ]
    }
   ],
   "source": [
    "while True:\n",
    "    try:\n",
    "        img, colors = get_frame()\n",
    "        which = nn.predict_proba([img.reshape(-1)])[0,1]\n",
    "        length = 50\n",
    "        n = int(which * length)\n",
    "        label = '='*n + '|' + '-'*(length-1-n)\n",
    "        output = f'{keys[0]} {label} {keys[1]}'\n",
    "        print(output)\n",
    "        sleep(0.03)\n",
    "        clear_output(wait=True)\n",
    "    except KeyboardInterrupt:\n",
    "        break"
   ]
  },
  {
   "cell_type": "code",
   "execution_count": 44,
   "metadata": {},
   "outputs": [
    {
     "name": "stdout",
     "output_type": "stream",
     "text": [
      "Done!\n"
     ]
    }
   ],
   "source": [
    "wb.Stop()\n",
    "wb.Disconnect()\n",
    "wb.Clean()"
   ]
  }
 ],
 "metadata": {
  "kernelspec": {
   "display_name": "Python 3",
   "language": "python",
   "name": "python3"
  },
  "language_info": {
   "codemirror_mode": {
    "name": "ipython",
    "version": 3
   },
   "file_extension": ".py",
   "mimetype": "text/x-python",
   "name": "python",
   "nbconvert_exporter": "python",
   "pygments_lexer": "ipython3",
   "version": "3.7.4"
  }
 },
 "nbformat": 4,
 "nbformat_minor": 2
}
